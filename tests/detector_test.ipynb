{
 "cells": [
  {
   "cell_type": "code",
   "execution_count": null,
   "metadata": {},
   "outputs": [],
   "source": [
    "!pip install ultralytics\n",
    "\n",
    "from ultralytics import YOLO\n",
    "import os\n",
    "import shutil\n",
    "import glob"
   ]
  },
  {
   "cell_type": "code",
   "execution_count": 24,
   "metadata": {},
   "outputs": [
    {
     "name": "stdout",
     "output_type": "stream",
     "text": [
      "../../data/tracking/test/01/img1\n",
      "Copying images\n"
     ]
    }
   ],
   "source": [
    "DATA_PATH = os.path.join(\"..\", \"..\", \"data\", \"tracking\")\n",
    "\n",
    "TRAIN_DATA_PATH = os.path.join(DATA_PATH, \"train\")\n",
    "TEST_DATA_PATH = os.path.join(DATA_PATH, \"test\")\n",
    "\n",
    "TRAIN_IMAGES_PATH = os.path.join(TRAIN_DATA_PATH, \"images\")\n",
    "TEST_IMAGES_PATH = os.path.join(TEST_DATA_PATH, \"images\")\n",
    "\n",
    "TRAIN_IMAGES_PATH = os.path.abspath(TRAIN_IMAGES_PATH)\n",
    "TEST_IMAGES_PATH = os.path.abspath(TEST_IMAGES_PATH)\n",
    "\n",
    "TRAIN_LABELS_PATH = os.path.join(TRAIN_DATA_PATH, \"labels\")\n",
    "TEST_LABELS_PATH = os.path.join(TEST_DATA_PATH, \"labels\")\n",
    "\n",
    "os.makedirs(TRAIN_IMAGES_PATH, exist_ok=True)\n",
    "os.makedirs(TEST_IMAGES_PATH, exist_ok=True)\n",
    "os.makedirs(TRAIN_LABELS_PATH, exist_ok=True)\n",
    "os.makedirs(TEST_LABELS_PATH, exist_ok=True)\n",
    "\n",
    "# copy test images into test/images folder\n",
    "MOT20_01_IMG_PATH = os.path.join(TEST_DATA_PATH, \"01\", \"img1\")\n",
    "print(MOT20_01_IMG_PATH)\n",
    "if os.path.exists(MOT20_01_IMG_PATH):\n",
    "    if os.path.exists(TEST_IMAGES_PATH):\n",
    "        print(\"Copying images\")\n",
    "        for img_file in glob.glob(os.path.join(MOT20_01_IMG_PATH, \"*\")):\n",
    "            shutil.copy(img_file, TEST_IMAGES_PATH)\n",
    "            shutil.copy(img_file, TRAIN_IMAGES_PATH)    # just a placeholder\n",
    "\n",
    "MODELS_PATH = os.path.join(\"../models\")"
   ]
  },
  {
   "cell_type": "code",
   "execution_count": null,
   "metadata": {},
   "outputs": [
    {
     "name": "stdout",
     "output_type": "stream",
     "text": [
      "det.txt successfully converted to YOLO labels!\n"
     ]
    }
   ],
   "source": [
    "det_txt_path = \"det.txt\"\n",
    "image_width, image_height = 1920, 1080\n",
    "\n",
    "with open(det_txt_path, \"r\") as f:\n",
    "    lines = f.readlines()\n",
    "\n",
    "for line in lines:\n",
    "    values = line.strip().split(\",\")\n",
    "    \n",
    "    frame_id = int(values[0])\n",
    "    x, y, w, h = map(float, values[2:6])\n",
    "    confidence = float(values[6])\n",
    "    class_id = 0\n",
    "\n",
    "    x_center = (x + w / 2) / image_width\n",
    "    y_center = (y + h / 2) / image_height\n",
    "    w /= image_width\n",
    "    h /= image_height\n",
    "\n",
    "    label_filename = f\"{frame_id:06d}.txt\"  # like 000001.txt\n",
    "    label_filepath = os.path.join(TEST_LABELS_PATH, label_filename)\n",
    "\n",
    "    with open(label_filepath, \"a\") as label_file:\n",
    "        label_file.write(f\"{class_id} {x_center:.6f} {y_center:.6f} {w:.6f} {h:.6f}\\n\")\n",
    "\n",
    "print(\"det.txt successfully converted to YOLO labels!\")"
   ]
  },
  {
   "cell_type": "code",
   "execution_count": 26,
   "metadata": {},
   "outputs": [
    {
     "name": "stdout",
     "output_type": "stream",
     "text": [
      "data.yaml created at ../../data/tracking/test/data.yaml\n",
      "Ultralytics 8.3.78 🚀 Python-3.8.18 torch-2.1.0 CUDA:0 (Quadro M1000M, 4035MiB)\n",
      "YOLOv9c summary (fused): 156 layers, 25,320,019 parameters, 0 gradients, 102.3 GFLOPs\n",
      "Downloading https://ultralytics.com/assets/Arial.ttf to '/home/floubsy2423/.config/Ultralytics/Arial.ttf'...\n"
     ]
    },
    {
     "name": "stderr",
     "output_type": "stream",
     "text": [
      "100%|██████████| 755k/755k [00:00<00:00, 2.78MB/s]\n",
      "\u001b[34m\u001b[1mval: \u001b[0mScanning /home/floubsy2423/Projects/data/tracking/test/labels... 429 images, 0 backgrounds, 0 corrupt: 100%|██████████| 429/429 [00:00<00:00, 730.05it/s]"
     ]
    },
    {
     "name": "stdout",
     "output_type": "stream",
     "text": [
      "\u001b[34m\u001b[1mval: \u001b[0mNew cache created: /home/floubsy2423/Projects/data/tracking/test/labels.cache\n"
     ]
    },
    {
     "name": "stderr",
     "output_type": "stream",
     "text": [
      "\n",
      "/home/floubsy2423/Programs/anaconda3/envs/boostTrack/lib/python3.8/site-packages/tqdm/auto.py:21: TqdmWarning: IProgress not found. Please update jupyter and ipywidgets. See https://ipywidgets.readthedocs.io/en/stable/user_install.html\n",
      "  from .autonotebook import tqdm as notebook_tqdm\n",
      "                 Class     Images  Instances      Box(P          R      mAP50  mAP50-95): 100%|██████████| 27/27 [00:58<00:00,  2.17s/it]\n"
     ]
    },
    {
     "name": "stdout",
     "output_type": "stream",
     "text": [
      "                   all        429      12610      0.718      0.807      0.813      0.599\n",
      "Speed: 0.9ms preprocess, 116.2ms inference, 0.0ms loss, 3.7ms postprocess per image\n",
      "Results saved to \u001b[1mruns/detect/val4\u001b[0m\n",
      "\n",
      "--- Model Evaluation Metrics ---\n",
      "🔹 Precision: 0.7183\n",
      "🔹 Recall: 0.8068\n",
      "🔹 mAP@50: 0.8132\n",
      "🔹 mAP@50-95: 0.5994\n",
      "🔹 Fitness Score: 0.6208\n"
     ]
    }
   ],
   "source": [
    "# test the model\n",
    "\n",
    "# create placeholders for train and val\n",
    "\n",
    "test_yaml_path = os.path.join(TEST_DATA_PATH, \"data.yaml\")\n",
    "\n",
    "test_yaml_content = f\"\"\"\\\n",
    "train: {TRAIN_IMAGES_PATH}\n",
    "val: {TRAIN_IMAGES_PATH}\n",
    "test: {TEST_IMAGES_PATH}\n",
    "nc: 1\n",
    "names: [\"person\"]\n",
    "\"\"\"\n",
    "\n",
    "# Write to the file\n",
    "with open(test_yaml_path, \"w\") as f:\n",
    "    f.write(test_yaml_content)\n",
    "\n",
    "print(f\"data.yaml created at {test_yaml_path}\")\n",
    "\n",
    "model_path = os.path.join(MODELS_PATH, \"yolov9c_trained.pt\")\n",
    "\n",
    "model = YOLO(model_path)\n",
    "\n",
    "results = model.val(data=test_yaml_path, split=\"test\")\n",
    "\n",
    "metrics = results.results_dict\n",
    "\n",
    "print(\"\\n--- Model Evaluation Metrics ---\")\n",
    "print(f\"🔹 Precision: {metrics['metrics/precision(B)']:.4f}\")\n",
    "print(f\"🔹 Recall: {metrics['metrics/recall(B)']:.4f}\")\n",
    "print(f\"🔹 mAP@50: {metrics['metrics/mAP50(B)']:.4f}\")\n",
    "print(f\"🔹 mAP@50-95: {metrics['metrics/mAP50-95(B)']:.4f}\")\n",
    "print(f\"🔹 Fitness Score: {metrics['fitness']:.4f}\")"
   ]
  }
 ],
 "metadata": {
  "kernelspec": {
   "display_name": "boostTrack",
   "language": "python",
   "name": "python3"
  },
  "language_info": {
   "codemirror_mode": {
    "name": "ipython",
    "version": 3
   },
   "file_extension": ".py",
   "mimetype": "text/x-python",
   "name": "python",
   "nbconvert_exporter": "python",
   "pygments_lexer": "ipython3",
   "version": "3.8.18"
  }
 },
 "nbformat": 4,
 "nbformat_minor": 2
}
